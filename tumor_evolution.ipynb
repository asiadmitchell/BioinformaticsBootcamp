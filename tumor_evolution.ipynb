{
 "cells": [
  {
   "cell_type": "code",
   "execution_count": null,
   "id": "attached-standard",
   "metadata": {},
   "outputs": [],
   "source": [
    "import pandas as pd\n",
    "\n",
    "## read in data files\n",
    "drivers = pd.read_csv('Data/TCGA_driver_genes.csv')\n",
    "sampleA = pd.read_csv('Data/sample_A.csv')\n",
    "sampleB = pd.read_csv('Data/sample_B.csv')\n",
    "sampleC = pd.read_csv('Data/sample_C.csv')\n",
    "sampleD = pd.read_csv('Data/sample_D.csv')\n",
    "sampleE = pd.read_csv('Data/sample_E.csv')\n"
   ]
  },
  {
   "cell_type": "code",
   "execution_count": null,
   "id": "human-feelings",
   "metadata": {},
   "outputs": [],
   "source": [
    "## add sample identifier column\n",
    "sampleA['sample'] = 'A'\n",
    "sampleB['sample'] = 'B'\n",
    "sampleC['sample'] = 'C'\n",
    "sampleD['sample'] = 'D'\n",
    "sampleE['sample'] = 'E'\n",
    "\n",
    "sampleA['value'] = True\n",
    "sampleB['value'] = True\n",
    "sampleC['value'] = True\n",
    "sampleD['value'] = True\n",
    "sampleE['value'] = True\n"
   ]
  },
  {
   "cell_type": "code",
   "execution_count": null,
   "id": "educational-project",
   "metadata": {},
   "outputs": [],
   "source": [
    "## table of all mutations\n",
    "mutations = samples[['chr', 'pos', 'alt', 'ref', 'gene']].drop_duplicates()\n",
    "\n",
    "## add FALSE value for missing mutations\n",
    "missing = mutations[~mutations.isin(sampleA)].dropna()\n",
    "missing['value'] = False\n",
    "sampleA = pd.concat([sampleA,missing], sort=True)\n",
    "\n",
    "missing = mutations[~mutations.isin(sampleB)].dropna()\n",
    "missing['value'] = False\n",
    "sampleB = pd.concat([sampleB,missing], sort=True)\n",
    "\n",
    "missing = mutations[~mutations.isin(sampleC)].dropna()\n",
    "missing['value'] = False\n",
    "sampleC = pd.concat([sampleC,missing], sort=True)\n",
    "\n",
    "missing = mutations[~mutations.isin(sampleD)].dropna()\n",
    "missing['value'] = False\n",
    "sampleD = pd.concat([sampleD,missing], sort=True)\n",
    "\n",
    "missing = mutations[~mutations.isin(sampleE)].dropna()\n",
    "missing['value'] = False\n",
    "sampleE = pd.concat([sampleE,missing], sort=True)\n"
   ]
  },
  {
   "cell_type": "code",
   "execution_count": null,
   "id": "designed-registrar",
   "metadata": {},
   "outputs": [],
   "source": [
    "## concatenate all samples into one table\n",
    "samples = pd.concat([sampleA,sampleB,sampleC,sampleD,sampleE])\n",
    "\n",
    "## pivot samples table\n",
    "samples = samples.pivot_table(index=['chr', 'pos', 'alt', 'ref', 'gene'], columns='sample', values='value')\n",
    "samples = samples.reset_index()\n"
   ]
  },
  {
   "cell_type": "code",
   "execution_count": null,
   "id": "fundamental-replica",
   "metadata": {},
   "outputs": [],
   "source": [
    "## identify cancer genes\n",
    "cancer_genes = samples[samples.gene.isin(drivers.Gene.drop_duplicates().to_list())]['gene']\n",
    "print(cancer_genes)\n"
   ]
  },
  {
   "cell_type": "code",
   "execution_count": null,
   "id": "ordinary-karen",
   "metadata": {},
   "outputs": [],
   "source": [
    "## annotate cancer_genes\n",
    "cancer_genes_data = drivers[drivers.Gene.isin(cancer_genes)]\n"
   ]
  },
  {
   "cell_type": "code",
   "execution_count": null,
   "id": "loved-enough",
   "metadata": {},
   "outputs": [],
   "source": [
    "## sort by tissue frequency and print\n",
    "cancer_genes_data = cancer_genes_data.sort_values('Tissue Frequency', ascending=False)\n",
    "cancer_genes_data[cancer_genes_data.Gene == 'APC'].sort_values('Tissue Frequency', ascending=False).head()\n",
    "cancer_genes_data[cancer_genes_data.Gene == 'KRAS'].sort_values('Tissue Frequency', ascending=False).head()\n",
    "cancer_genes_data[cancer_genes_data.Gene == 'SMAD4'].sort_values('Tissue Frequency', ascending=False).head()\n",
    "cancer_genes_data[cancer_genes_data.Gene == 'TP53'].sort_values('Tissue Frequency', ascending=False).head()\n",
    "cancer_genes_data[cancer_genes_data.Gene == 'FBXW7'].sort_values('Tissue Frequency', ascending=False).head()\n"
   ]
  },
  {
   "cell_type": "code",
   "execution_count": null,
   "id": "indie-niagara",
   "metadata": {},
   "outputs": [],
   "source": [
    "## sort columns & look for patterns\n",
    "samples = samples.sort_values(['A','B','C','D','E'])\n",
    "\n",
    "## subset cancer genes from samples\n",
    "samples_genes = samples[samples.gene.isin(cancer_genes)]\n",
    "print(samples_genes)"
   ]
  }
 ],
 "metadata": {
  "kernelspec": {
   "display_name": "Python [conda env:.conda-2019Sep_VUS]",
   "language": "python",
   "name": "conda-env-.conda-2019Sep_VUS-py"
  },
  "language_info": {
   "codemirror_mode": {
    "name": "ipython",
    "version": 3
   },
   "file_extension": ".py",
   "mimetype": "text/x-python",
   "name": "python",
   "nbconvert_exporter": "python",
   "pygments_lexer": "ipython3",
   "version": "3.7.4"
  }
 },
 "nbformat": 4,
 "nbformat_minor": 5
}
